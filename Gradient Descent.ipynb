{
 "cells": [
  {
   "cell_type": "code",
   "execution_count": 1,
   "metadata": {},
   "outputs": [],
   "source": [
    "import numpy as np\n",
    "import pandas as pd\n",
    "import matplotlib.pyplot as plt\n",
    "import mglearn\n",
    "%matplotlib inline"
   ]
  },
  {
   "cell_type": "markdown",
   "metadata": {},
   "source": [
    "# Gradient Descent"
   ]
  },
  {
   "cell_type": "markdown",
   "metadata": {},
   "source": [
    "w = w - myu * (de / dw)\n",
    "\n",
    "e = (1 / N) * sigma((y_actual - y_pred)^2)"
   ]
  },
  {
   "cell_type": "code",
   "execution_count": 2,
   "metadata": {},
   "outputs": [],
   "source": [
    "# case : define error function, dimension == 1\n",
    "def error(w):\n",
    "    return 0.1 * w ** 2 + w"
   ]
  },
  {
   "cell_type": "code",
   "execution_count": 3,
   "metadata": {},
   "outputs": [],
   "source": [
    "def dedw(w):\n",
    "    return 0.2 * w + 1"
   ]
  },
  {
   "cell_type": "code",
   "execution_count": 4,
   "metadata": {},
   "outputs": [],
   "source": [
    "def num_dedw(w):\n",
    "    h = 1.0e-4\n",
    "    e1 = error(w+h)\n",
    "    e2 = error(w-h)\n",
    "    return (e1-e2) / (2 * h)"
   ]
  },
  {
   "cell_type": "code",
   "execution_count": 5,
   "metadata": {},
   "outputs": [],
   "source": [
    "# -10에서 10까지 0.1만큼 차이 배열\n",
    "w = np.arange(-10, 10, 0.1)"
   ]
  },
  {
   "cell_type": "code",
   "execution_count": 6,
   "metadata": {},
   "outputs": [
    {
     "data": {
      "text/plain": [
       "[<matplotlib.lines.Line2D at 0x217076d9a60>]"
      ]
     },
     "execution_count": 6,
     "metadata": {},
     "output_type": "execute_result"
    },
    {
     "data": {
      "image/png": "[encoded data removed]",
      "text/plain": [
       "<Figure size 432x288 with 1 Axes>"
      ]
     },
     "metadata": {
      "needs_background": "light"
     },
     "output_type": "display_data"
    }
   ],
   "source": [
    "plt.plot(w, error(w))"
   ]
  },
  {
   "cell_type": "code",
   "execution_count": 7,
   "metadata": {},
   "outputs": [
    {
     "data": {
      "text/plain": [
       "[<matplotlib.lines.Line2D at 0x21707a1e100>]"
      ]
     },
     "execution_count": 7,
     "metadata": {},
     "output_type": "execute_result"
    },
    {
     "data": {
      "image/png": "[encoded data removed]",
      "text/plain": [
       "<Figure size 432x288 with 1 Axes>"
      ]
     },
     "metadata": {
      "needs_background": "light"
     },
     "output_type": "display_data"
    }
   ],
   "source": [
    "plt.plot(w, dedw(w))"
   ]
  },
  {
   "cell_type": "code",
   "execution_count": 8,
   "metadata": {},
   "outputs": [
    {
     "name": "stdout",
     "output_type": "stream",
     "text": [
      "iter : 625, weight : -4.999951736963476, error : 9.849599287292676e-07\n"
     ]
    }
   ],
   "source": [
    "# gradient Descent with dedu\n",
    "w = 10\n",
    "myu = 0.1\n",
    "for i in range(1000):\n",
    "    w_temp = w\n",
    "    w = w - myu * dedw(w)\n",
    "    if(abs(w - w_temp) < 1.0e-6):\n",
    "        print('iter : {}, weight : {}, error : {}'.format(i, w, abs(w - w_temp)))\n",
    "        break"
   ]
  },
  {
   "cell_type": "code",
   "execution_count": 9,
   "metadata": {},
   "outputs": [
    {
     "name": "stdout",
     "output_type": "stream",
     "text": [
      "iter : 625, weight : -4.999951736963734, error : 9.84959669381169e-07\n"
     ]
    }
   ],
   "source": [
    "# gradient Descent with num_dedu\n",
    "w = 10\n",
    "myu = 0.1\n",
    "for i in range(1000):\n",
    "    w_temp = w\n",
    "    w = w - myu * num_dedw(w)\n",
    "    if(abs(w - w_temp) < 1.0e-6):\n",
    "        print('iter : {}, weight : {}, error : {}'.format(i, w, abs(w - w_temp)))\n",
    "        break"
   ]
  },
  {
   "cell_type": "markdown",
   "metadata": {},
   "source": [
    "# Multi-dimensional Case"
   ]
  },
  {
   "cell_type": "code",
   "execution_count": 10,
   "metadata": {},
   "outputs": [],
   "source": [
    "def problem(x):\n",
    "    return x[0]**2 + 2 * (x[1]-3)**2 - 10"
   ]
  },
  {
   "cell_type": "code",
   "execution_count": 11,
   "metadata": {},
   "outputs": [],
   "source": [
    "def gradient(x):\n",
    "    grad = np.zeros_like(x)\n",
    "    grad[0] = 2 * x[0]\n",
    "    grad[1] = 4 * (x[1] - 3)\n",
    "    return grad"
   ]
  },
  {
   "cell_type": "code",
   "execution_count": 12,
   "metadata": {},
   "outputs": [],
   "source": [
    "def num_gradient(function, x):\n",
    "    h = 1.0e-4\n",
    "    grad = np.zeros_like(x)\n",
    "    x_temp = x.copy()\n",
    "    \n",
    "    for i in range(x.size):\n",
    "        x_temp[i] = x[i] + h\n",
    "        f1 = function(x_temp)\n",
    "        \n",
    "        # function에 들어가려면 x 전체로만 적용 가능\n",
    "        # x[i]로 들어가면 error\n",
    "        \n",
    "        x_temp[i] = x[i] - h\n",
    "        f2 = function(x_temp)\n",
    "        grad[i] = (f1 - f2) / (2 * h)\n",
    "        \n",
    "    return grad"
   ]
  },
  {
   "cell_type": "code",
   "execution_count": 13,
   "metadata": {},
   "outputs": [
    {
     "name": "stdout",
     "output_type": "stream",
     "text": [
      "iter : 45, weight : [3.48449144e-05 3.00000000e+00], error : 7.588550360948265e-11\n"
     ]
    }
   ],
   "source": [
    "w = np.array([1.0, 1.0])\n",
    "myu = 0.1\n",
    "max_iter = 1000\n",
    "\n",
    "for i in range(max_iter):\n",
    "    w_temp = w\n",
    "    w = w - myu * gradient(w)\n",
    "    # feature가 2차원이기 때문에, np.sum으로 각각 error 계산 후 더하기\n",
    "    error = np.sum((w - w_temp) ** 2)\n",
    "    if(error < 1.0e-10):\n",
    "        print('iter : {}, weight : {}, error : {}'.format(i, w, error))\n",
    "        break"
   ]
  },
  {
   "cell_type": "code",
   "execution_count": 14,
   "metadata": {},
   "outputs": [
    {
     "name": "stdout",
     "output_type": "stream",
     "text": [
      "iter : 50, weight : [3.42539453e-05 3.00000000e+00], error : 7.333329110849883e-11\n"
     ]
    }
   ],
   "source": [
    "w = np.array([3.0, 2.0])\n",
    "myu = 0.1\n",
    "max_iter = 1000\n",
    "\n",
    "for i in range(max_iter):\n",
    "    w_temp = w\n",
    "    w = w - myu * num_gradient(problem, w)\n",
    "    error = np.sum((w - w_temp)** 2)\n",
    "    if(error < 1.0e-10):\n",
    "        print('iter : {}, weight : {}, error : {}'.format(i, w, error))\n",
    "        break"
   ]
  },
  {
   "cell_type": "markdown",
   "metadata": {},
   "source": [
    "# Mometum"
   ]
  },
  {
   "cell_type": "code",
   "execution_count": 15,
   "metadata": {},
   "outputs": [],
   "source": [
    "def m_problem(x):\n",
    "    return (x[0]-2)**2 + 2 * (x[1]-3)**2 + 3 * (x[2]-1)**2 - 4"
   ]
  },
  {
   "cell_type": "code",
   "execution_count": 16,
   "metadata": {},
   "outputs": [
    {
     "name": "stdout",
     "output_type": "stream",
     "text": [
      "iter : 16, weight : [2.00147762 2.99992785 0.99991083], error : 9.667603761420394e-07\n"
     ]
    }
   ],
   "source": [
    "alpha = 0.3\n",
    "myu = 0.1\n",
    "w = np.array([5.0, 5.0, 5.0])\n",
    "error_criteria = 1.0e-6\n",
    "\n",
    "w_old = w.copy()\n",
    "for i in range(1000):\n",
    "    w_temp = w\n",
    "    w = w - myu * num_gradient(m_problem, w) + alpha * (w - w_old)\n",
    "    w_old = w_temp\n",
    "    error = np.sum((w - w_temp)**2)\n",
    "    if(error < error_criteria):\n",
    "        print('iter : {}, weight : {}, error : {}'.format(i, w, error))\n",
    "        break"
   ]
  }
 ],
 "metadata": {
  "kernelspec": {
   "display_name": "Python 3",
   "language": "python",
   "name": "python3"
  },
  "language_info": {
   "codemirror_mode": {
    "name": "ipython",
    "version": 3
   },
   "file_extension": ".py",
   "mimetype": "text/x-python",
   "name": "python",
   "nbconvert_exporter": "python",
   "pygments_lexer": "ipython3",
   "version": "3.8.5"
  }
 },
 "nbformat": 4,
 "nbformat_minor": 4
}
